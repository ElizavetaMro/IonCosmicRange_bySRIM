{
 "cells": [
  {
   "cell_type": "code",
   "execution_count": 1,
   "id": "e9e49df1",
   "metadata": {},
   "outputs": [],
   "source": [
    "import SRIM_function as SR"
   ]
  },
  {
   "cell_type": "code",
   "execution_count": 2,
   "id": "6f9401e7-9a03-428d-95dc-7166fcb2e276",
   "metadata": {},
   "outputs": [
    {
     "data": {
      "text/plain": [
       "\u001b[1;31mSignature:\u001b[0m \u001b[0mSR\u001b[0m\u001b[1;33m.\u001b[0m\u001b[0mcrit_energy\u001b[0m\u001b[1;33m(\u001b[0m\u001b[0mmm\u001b[0m\u001b[1;33m,\u001b[0m \u001b[0mmat\u001b[0m\u001b[1;33m)\u001b[0m\u001b[1;33m\u001b[0m\u001b[1;33m\u001b[0m\u001b[0m\n",
       "\u001b[1;31mDocstring:\u001b[0m\n",
       "возвращает список энергий (в MeV) при которых пробег в материале mat частиц равен mm. Используется:\n",
       "1. если указать mat = Al и mm=3, то возвращается список энергий для каждого иона близко к которым вообще стоит начинать запускать TRIM\n",
       "2. если указать mat = Si и mm = 0.01, список энергий после которых TRIM стоит остановить, так как для нашей локальной задачи частицы с большим пробегом неинтересны\n",
       "Функция меняет директорию на SRModule, а после выполнения основной части обратно на userScripts и записывает туда результат в .txt\n",
       "\u001b[1;31mFile:\u001b[0m      c:\\users\\mrozovskaya\\documents\\srim\\srim\\userscripts\\srim_function.py\n",
       "\u001b[1;31mType:\u001b[0m      function\n"
      ]
     },
     "metadata": {},
     "output_type": "display_data"
    }
   ],
   "source": [
    "SR.crit_energy?"
   ]
  },
  {
   "cell_type": "code",
   "execution_count": 3,
   "id": "d222af08-a5e6-4ebd-a673-bdc5f2f32cac",
   "metadata": {},
   "outputs": [
    {
     "data": {
      "text/plain": [
       "\u001b[1;31mSignature:\u001b[0m \u001b[0mSR\u001b[0m\u001b[1;33m.\u001b[0m\u001b[0mprocent_Tab\u001b[0m\u001b[1;33m(\u001b[0m\u001b[0mfile\u001b[0m\u001b[1;33m)\u001b[0m\u001b[1;33m\u001b[0m\u001b[1;33m\u001b[0m\u001b[0m\n",
       "\u001b[1;31mDocstring:\u001b[0m\n",
       "Читает файл из OMERE cosmicIons.flx и:\n",
       "[0] возвращает относительный состав энергетических потоков различных ионов\n",
       "[1] возвращает соответсвующую энергию (в MeV)\n",
       "\u001b[1;31mFile:\u001b[0m      c:\\users\\mrozovskaya\\documents\\srim\\srim\\userscripts\\srim_function.py\n",
       "\u001b[1;31mType:\u001b[0m      function\n"
      ]
     },
     "metadata": {},
     "output_type": "display_data"
    }
   ],
   "source": [
    "SR.procent_Tab?"
   ]
  },
  {
   "cell_type": "code",
   "execution_count": 4,
   "id": "fe13ad80-2347-4b9c-9d00-05d8f316e7bc",
   "metadata": {},
   "outputs": [
    {
     "data": {
      "text/plain": [
       "\u001b[1;31mSignature:\u001b[0m\n",
       "\u001b[0mSR\u001b[0m\u001b[1;33m.\u001b[0m\u001b[0mprocent_particles_inSi_afterAl\u001b[0m\u001b[1;33m(\u001b[0m\u001b[1;33m\n",
       "\u001b[0m    \u001b[0mcrit_enAl\u001b[0m\u001b[1;33m,\u001b[0m\u001b[1;33m\n",
       "\u001b[0m    \u001b[0mcrit_enSi\u001b[0m\u001b[1;33m,\u001b[0m\u001b[1;33m\n",
       "\u001b[0m    \u001b[0mdf_procent\u001b[0m\u001b[1;33m,\u001b[0m\u001b[1;33m\n",
       "\u001b[0m    \u001b[0menergyOMERE\u001b[0m\u001b[1;33m,\u001b[0m\u001b[1;33m\n",
       "\u001b[0m\u001b[1;33m)\u001b[0m\u001b[1;33m\u001b[0m\u001b[1;33m\u001b[0m\u001b[0m\n",
       "\u001b[1;31mDocstring:\u001b[0m\n",
       "входные параметры:\n",
       " * критические энергии в алюминии и кремнии crit_enAl, crit_enSi\n",
       " * процент частиц в энергетическом спектре df_procent\n",
       "energyOMERE тоже определена заранее\n",
       "выходные значения:\n",
       "    [0] процент частиц вообще прошедших защиту 3мм Al\n",
       "    [1] процент частиц прошедших защиту 3мм Al И имеющих пробег в Si менее 10 мкм\n",
       "    [2] процент частиц имеющих пробег в Si менее 10 мкм, из тех что прошедших защиту 3мм Al\n",
       "\u001b[1;31mFile:\u001b[0m      c:\\users\\mrozovskaya\\documents\\srim\\srim\\userscripts\\srim_function.py\n",
       "\u001b[1;31mType:\u001b[0m      function\n"
      ]
     },
     "metadata": {},
     "output_type": "display_data"
    }
   ],
   "source": [
    "SR.procent_particles_inSi_afterAl?"
   ]
  },
  {
   "cell_type": "markdown",
   "id": "2af23998-653c-419f-a270-d69c19c81f9d",
   "metadata": {},
   "source": [
    "# Основная программа\n",
    "Такая версия программы будет считать очень долго, поэтому имеет смысл написать свои подфункции, которые будут читать промежуточные значения из файла."
   ]
  },
  {
   "cell_type": "code",
   "execution_count": 12,
   "id": "ba672306-5ad8-4b25-8b08-f9767554349a",
   "metadata": {},
   "outputs": [
    {
     "name": "stdout",
     "output_type": "stream",
     "text": [
      "Все готово, шеф!\n"
     ]
    }
   ],
   "source": [
    "crit_enSi = SR.crit_energy(0.01, 'Si')\n",
    "crit_enAl = SR.crit_energy(3, 'Al')\n",
    "\n",
    "df_procent, energyOMERE = SR.procent_Tab('cosmicIons.flx')\n",
    "\n",
    "print('К запуску готов!')"
   ]
  },
  {
   "cell_type": "code",
   "execution_count": 6,
   "id": "fd17ab68-8512-4cea-a0f9-36d3959f2c00",
   "metadata": {},
   "outputs": [
    {
     "name": "stdout",
     "output_type": "stream",
     "text": [
      "TRIM.IN changed: I= 1 energy= 20.29 MeV\n",
      "TRIM.IN changed: I= 1 energy= 20.5892 MeV\n",
      "20.5892\n",
      "TRIM.IN changed: I= 1 energy= 20.8927 MeV\n",
      "20.8927\n",
      "TRIM.IN changed: I= 1 energy= 21.2008 MeV\n",
      "21.2008\n",
      "TRIM.IN changed: I= 1 energy= 21.5133 MeV\n",
      "21.5133\n",
      "TRIM.IN changed: I= 1 energy= 21.8305 MeV\n",
      "21.8305\n",
      "TRIM.IN changed: I= 1 energy= 22.1523 MeV\n",
      "22.1523\n",
      "TRIM.IN changed: I= 1 energy= 22.4789 MeV\n",
      "22.4789\n",
      "TRIM.IN changed: I= 1 energy= 22.8104 MeV\n",
      "22.8104\n",
      "TRIM.IN changed: I= 1 energy= 23.1467 MeV\n"
     ]
    },
    {
     "ename": "KeyboardInterrupt",
     "evalue": "",
     "output_type": "error",
     "traceback": [
      "\u001b[1;31m---------------------------------------------------------------------------\u001b[0m",
      "\u001b[1;31mKeyboardInterrupt\u001b[0m                         Traceback (most recent call last)",
      "\u001b[1;32mC:\\Users\\MROZOV~1\\AppData\\Local\\Temp/ipykernel_20624/2483719611.py\u001b[0m in \u001b[0;36m<module>\u001b[1;34m\u001b[0m\n\u001b[1;32m----> 1\u001b[1;33m \u001b[0mparticle3mm\u001b[0m\u001b[1;33m,\u001b[0m \u001b[0mparticle10um\u001b[0m\u001b[1;33m,\u001b[0m \u001b[0mrel_particle10um_3mm\u001b[0m \u001b[1;33m=\u001b[0m \u001b[0mSR\u001b[0m\u001b[1;33m.\u001b[0m\u001b[0mprocent_particles_inSi_afterAl\u001b[0m\u001b[1;33m(\u001b[0m\u001b[0mcrit_enAl\u001b[0m\u001b[1;33m,\u001b[0m \u001b[0mcrit_enSi\u001b[0m\u001b[1;33m,\u001b[0m \u001b[0mdf_procent\u001b[0m\u001b[1;33m,\u001b[0m \u001b[0menergyOMERE\u001b[0m\u001b[1;33m)\u001b[0m\u001b[1;33m\u001b[0m\u001b[1;33m\u001b[0m\u001b[0m\n\u001b[0m",
      "\u001b[1;32m~\\Documents\\SRIM\\SRIM\\userScripts\\SRIM_function.py\u001b[0m in \u001b[0;36mprocent_particles_inSi_afterAl\u001b[1;34m(crit_enAl, crit_enSi, df_procent, energyOMERE)\u001b[0m\n\u001b[0;32m    201\u001b[0m         \u001b[0mcrit_enAl_ion\u001b[0m \u001b[1;33m=\u001b[0m \u001b[0mcrit_enAl\u001b[0m\u001b[1;33m[\u001b[0m\u001b[0mion\u001b[0m\u001b[1;33m-\u001b[0m\u001b[1;36m1\u001b[0m\u001b[1;33m]\u001b[0m\u001b[1;33m\u001b[0m\u001b[1;33m\u001b[0m\u001b[0m\n\u001b[0;32m    202\u001b[0m         \u001b[0mcrit_enSi_ion\u001b[0m \u001b[1;33m=\u001b[0m \u001b[0mcrit_enSi\u001b[0m\u001b[1;33m[\u001b[0m\u001b[0mion\u001b[0m\u001b[1;33m-\u001b[0m\u001b[1;36m1\u001b[0m\u001b[1;33m]\u001b[0m\u001b[1;33m\u001b[0m\u001b[1;33m\u001b[0m\u001b[0m\n\u001b[1;32m--> 203\u001b[1;33m         \u001b[0mafter_protection\u001b[0m \u001b[1;33m=\u001b[0m \u001b[0m_ion_afterAl\u001b[0m\u001b[1;33m(\u001b[0m\u001b[0mion\u001b[0m\u001b[1;33m,\u001b[0m \u001b[0mcrit_enAl_ion\u001b[0m\u001b[1;33m,\u001b[0m \u001b[0mcrit_enSi_ion\u001b[0m\u001b[1;33m,\u001b[0m \u001b[0menergyOMERE\u001b[0m\u001b[1;33m)\u001b[0m\u001b[1;33m\u001b[0m\u001b[1;33m\u001b[0m\u001b[0m\n\u001b[0m\u001b[0;32m    204\u001b[0m         \u001b[1;32mif\u001b[0m \u001b[0mafter_protection\u001b[0m\u001b[1;33m:\u001b[0m\u001b[1;33m\u001b[0m\u001b[1;33m\u001b[0m\u001b[0m\n\u001b[0;32m    205\u001b[0m             \u001b[0mparticle10um\u001b[0m \u001b[1;33m+=\u001b[0m \u001b[0msum\u001b[0m\u001b[1;33m(\u001b[0m\u001b[1;33m[\u001b[0m\u001b[0mel\u001b[0m\u001b[1;33m[\u001b[0m\u001b[1;36m1\u001b[0m\u001b[1;33m]\u001b[0m \u001b[1;33m*\u001b[0m \u001b[0mdf_procent\u001b[0m\u001b[1;33m[\u001b[0m\u001b[0mion\u001b[0m\u001b[1;33m]\u001b[0m\u001b[1;33m[\u001b[0m\u001b[0menergyOMERE\u001b[0m\u001b[1;33m==\u001b[0m\u001b[0mel\u001b[0m\u001b[1;33m[\u001b[0m\u001b[1;36m0\u001b[0m\u001b[1;33m]\u001b[0m\u001b[1;33m]\u001b[0m \u001b[1;32mfor\u001b[0m \u001b[0mel\u001b[0m \u001b[1;32min\u001b[0m \u001b[0mafter_protection\u001b[0m\u001b[1;33m]\u001b[0m\u001b[1;33m)\u001b[0m\u001b[1;33m\u001b[0m\u001b[1;33m\u001b[0m\u001b[0m\n",
      "\u001b[1;32m~\\Documents\\SRIM\\SRIM\\userScripts\\SRIM_function.py\u001b[0m in \u001b[0;36m_ion_afterAl\u001b[1;34m(ion, crit_enAl_ion, crit_enSi_ion, energyOMERE)\u001b[0m\n\u001b[0;32m    166\u001b[0m         \u001b[0mi\u001b[0m \u001b[1;33m=\u001b[0m \u001b[1;36m1\u001b[0m\u001b[1;33m\u001b[0m\u001b[1;33m\u001b[0m\u001b[0m\n\u001b[0;32m    167\u001b[0m         \u001b[1;32mwhile\u001b[0m \u001b[0mrange_cond\u001b[0m \u001b[1;32mor\u001b[0m \u001b[0menergy\u001b[0m\u001b[1;33m[\u001b[0m\u001b[0mi\u001b[0m\u001b[1;33m]\u001b[0m \u001b[1;33m<=\u001b[0m \u001b[0menergyOMERE\u001b[0m\u001b[1;33m[\u001b[0m\u001b[1;33m-\u001b[0m\u001b[1;36m1\u001b[0m\u001b[1;33m]\u001b[0m\u001b[1;33m:\u001b[0m\u001b[1;33m\u001b[0m\u001b[1;33m\u001b[0m\u001b[0m\n\u001b[1;32m--> 168\u001b[1;33m             \u001b[0mout_energy\u001b[0m \u001b[1;33m=\u001b[0m \u001b[0m_outTRIM\u001b[0m\u001b[1;33m(\u001b[0m\u001b[0menergy\u001b[0m\u001b[1;33m[\u001b[0m\u001b[0mi\u001b[0m\u001b[1;33m]\u001b[0m\u001b[1;33m,\u001b[0m \u001b[0mion\u001b[0m\u001b[1;33m)\u001b[0m\u001b[1;33m\u001b[0m\u001b[1;33m\u001b[0m\u001b[0m\n\u001b[0m\u001b[0;32m    169\u001b[0m             \u001b[0mions_afterAl\u001b[0m \u001b[1;33m+=\u001b[0m \u001b[1;33m[\u001b[0m\u001b[1;33m(\u001b[0m\u001b[0menergy\u001b[0m\u001b[1;33m[\u001b[0m\u001b[0mi\u001b[0m\u001b[1;33m]\u001b[0m\u001b[1;33m,\u001b[0m \u001b[0msum\u001b[0m\u001b[1;33m(\u001b[0m\u001b[0mout_energy\u001b[0m \u001b[1;33m<=\u001b[0m  \u001b[0mcrit_enSi_ion\u001b[0m\u001b[1;33m)\u001b[0m\u001b[1;33m/\u001b[0m\u001b[1;36m100\u001b[0m\u001b[1;33m)\u001b[0m\u001b[1;33m]\u001b[0m \u001b[1;31m#100 ионов каждой энергии было запущено\u001b[0m\u001b[1;33m\u001b[0m\u001b[1;33m\u001b[0m\u001b[0m\n\u001b[0;32m    170\u001b[0m             \u001b[0mprotect_cond\u001b[0m \u001b[1;33m=\u001b[0m \u001b[0mlen\u001b[0m\u001b[1;33m(\u001b[0m\u001b[0mout_energy\u001b[0m\u001b[1;33m)\u001b[0m\u001b[1;33m!=\u001b[0m\u001b[1;36m0\u001b[0m \u001b[1;31m#прошла ли хотя бы одна частица защиту?\u001b[0m\u001b[1;33m\u001b[0m\u001b[1;33m\u001b[0m\u001b[0m\n",
      "\u001b[1;32m~\\Documents\\SRIM\\SRIM\\userScripts\\SRIM_function.py\u001b[0m in \u001b[0;36m_outTRIM\u001b[1;34m(energy, ion)\u001b[0m\n\u001b[0;32m     79\u001b[0m     \"\"\"\n\u001b[0;32m     80\u001b[0m     \u001b[0m__changeIN\u001b[0m\u001b[1;33m(\u001b[0m\u001b[0menergy\u001b[0m\u001b[1;33m,\u001b[0m \u001b[0mion\u001b[0m\u001b[1;33m,\u001b[0m \u001b[1;36m3\u001b[0m\u001b[1;33m,\u001b[0m \u001b[1;32mTrue\u001b[0m\u001b[1;33m)\u001b[0m\u001b[1;33m\u001b[0m\u001b[1;33m\u001b[0m\u001b[0m\n\u001b[1;32m---> 81\u001b[1;33m     \u001b[0mos\u001b[0m\u001b[1;33m.\u001b[0m\u001b[0msystem\u001b[0m\u001b[1;33m(\u001b[0m\u001b[1;34m\"TRIM.exe\"\u001b[0m\u001b[1;33m)\u001b[0m\u001b[1;33m\u001b[0m\u001b[1;33m\u001b[0m\u001b[0m\n\u001b[0m\u001b[0;32m     82\u001b[0m     \u001b[0mf\u001b[0m \u001b[1;33m=\u001b[0m \u001b[0mopen\u001b[0m\u001b[1;33m(\u001b[0m\u001b[1;34m\"SRIM Outputs\\RANGE_3D.txt\"\u001b[0m\u001b[1;33m,\u001b[0m \u001b[1;34m\"r\"\u001b[0m\u001b[1;33m)\u001b[0m\u001b[1;33m\u001b[0m\u001b[1;33m\u001b[0m\u001b[0m\n\u001b[0;32m     83\u001b[0m     \u001b[0mtryI\u001b[0m \u001b[1;33m=\u001b[0m \u001b[0mf\u001b[0m\u001b[1;33m.\u001b[0m\u001b[0mread\u001b[0m\u001b[1;33m(\u001b[0m\u001b[1;33m)\u001b[0m\u001b[1;33m.\u001b[0m\u001b[0msplit\u001b[0m\u001b[1;33m(\u001b[0m\u001b[1;34m'\\n'\u001b[0m\u001b[1;33m)\u001b[0m\u001b[1;33m\u001b[0m\u001b[1;33m\u001b[0m\u001b[0m\n",
      "\u001b[1;31mKeyboardInterrupt\u001b[0m: "
     ]
    }
   ],
   "source": [
    "particle3mm, particle10um, rel_particle10um_3mm = SR.procent_particles_inSi_afterAl(crit_enAl, crit_enSi, df_procent, energyOMERE)\n",
    "print('"
   ]
  },
  {
   "cell_type": "code",
   "execution_count": null,
   "id": "496a290e-8b5a-488d-b9eb-0776bcbd419f",
   "metadata": {},
   "outputs": [],
   "source": []
  }
 ],
 "metadata": {
  "kernelspec": {
   "display_name": "Python 3 (ipykernel)",
   "language": "python",
   "name": "python3"
  },
  "language_info": {
   "codemirror_mode": {
    "name": "ipython",
    "version": 3
   },
   "file_extension": ".py",
   "mimetype": "text/x-python",
   "name": "python",
   "nbconvert_exporter": "python",
   "pygments_lexer": "ipython3",
   "version": "3.9.7"
  }
 },
 "nbformat": 4,
 "nbformat_minor": 5
}
